{
 "cells": [
  {
   "cell_type": "code",
   "execution_count": 53,
   "metadata": {},
   "outputs": [
    {
     "data": {
      "text/html": [
       "<div>\n",
       "<style scoped>\n",
       "    .dataframe tbody tr th:only-of-type {\n",
       "        vertical-align: middle;\n",
       "    }\n",
       "\n",
       "    .dataframe tbody tr th {\n",
       "        vertical-align: top;\n",
       "    }\n",
       "\n",
       "    .dataframe thead th {\n",
       "        text-align: right;\n",
       "    }\n",
       "</style>\n",
       "<table border=\"1\" class=\"dataframe\">\n",
       "  <thead>\n",
       "    <tr style=\"text-align: right;\">\n",
       "      <th></th>\n",
       "      <th>Poste date</th>\n",
       "      <th>Title</th>\n",
       "      <th>Location</th>\n",
       "      <th>Company</th>\n",
       "      <th>Job type</th>\n",
       "      <th>Job description</th>\n",
       "    </tr>\n",
       "  </thead>\n",
       "  <tbody>\n",
       "    <tr>\n",
       "      <th>0</th>\n",
       "      <td>PostedPosted 30+ days ago</td>\n",
       "      <td>Ingénieur informatique</td>\n",
       "      <td>Rabat</td>\n",
       "      <td>advance manager</td>\n",
       "      <td>Permanent</td>\n",
       "      <td>Nous sommes à la recherche d'un Ingénieur Info...</td>\n",
       "    </tr>\n",
       "    <tr>\n",
       "      <th>1</th>\n",
       "      <td>PostedPosted 30+ days ago</td>\n",
       "      <td>Ingénieur Sécurité Informatique (H/F)</td>\n",
       "      <td>Rabat</td>\n",
       "      <td>ISC Maroc</td>\n",
       "      <td>Permanent</td>\n",
       "      <td>Notre mission depuis 30 ans ? Être présent au ...</td>\n",
       "    </tr>\n",
       "    <tr>\n",
       "      <th>2</th>\n",
       "      <td>PostedPosted 17 days ago</td>\n",
       "      <td>Ingénieur agronome - chargé de mission auprès ...</td>\n",
       "      <td>Rabat</td>\n",
       "      <td>NaN</td>\n",
       "      <td>Permanent</td>\n",
       "      <td>Rabat\\nPubliée le: 9 Feb-13:56\\nAnnonce N°: 97...</td>\n",
       "    </tr>\n",
       "    <tr>\n",
       "      <th>3</th>\n",
       "      <td>PostedPosted 17 days ago</td>\n",
       "      <td>IngÉnieur systÈme d’information</td>\n",
       "      <td>Rabat</td>\n",
       "      <td>NaN</td>\n",
       "      <td>Permanent</td>\n",
       "      <td>Rabat\\nPubliée le: 9 Feb-10:43\\nAnnonce N°: 97...</td>\n",
       "    </tr>\n",
       "    <tr>\n",
       "      <th>4</th>\n",
       "      <td>EmployerActive 21 days ago</td>\n",
       "      <td>Chargé(e) de Mission - Project Management</td>\n",
       "      <td>Rabat</td>\n",
       "      <td>RH Multirecru</td>\n",
       "      <td>Permanent</td>\n",
       "      <td>Job Title: Chargé(e) de Mission - Project Mana...</td>\n",
       "    </tr>\n",
       "  </tbody>\n",
       "</table>\n",
       "</div>"
      ],
      "text/plain": [
       "                   Poste date  \\\n",
       "0   PostedPosted 30+ days ago   \n",
       "1   PostedPosted 30+ days ago   \n",
       "2    PostedPosted 17 days ago   \n",
       "3    PostedPosted 17 days ago   \n",
       "4  EmployerActive 21 days ago   \n",
       "\n",
       "                                               Title Location  \\\n",
       "0                             Ingénieur informatique    Rabat   \n",
       "1              Ingénieur Sécurité Informatique (H/F)    Rabat   \n",
       "2  Ingénieur agronome - chargé de mission auprès ...    Rabat   \n",
       "3                    IngÉnieur systÈme d’information    Rabat   \n",
       "4          Chargé(e) de Mission - Project Management    Rabat   \n",
       "\n",
       "           Company   Job type  \\\n",
       "0  advance manager  Permanent   \n",
       "1        ISC Maroc  Permanent   \n",
       "2              NaN  Permanent   \n",
       "3              NaN  Permanent   \n",
       "4    RH Multirecru  Permanent   \n",
       "\n",
       "                                     Job description  \n",
       "0  Nous sommes à la recherche d'un Ingénieur Info...  \n",
       "1  Notre mission depuis 30 ans ? Être présent au ...  \n",
       "2  Rabat\\nPubliée le: 9 Feb-13:56\\nAnnonce N°: 97...  \n",
       "3  Rabat\\nPubliée le: 9 Feb-10:43\\nAnnonce N°: 97...  \n",
       "4  Job Title: Chargé(e) de Mission - Project Mana...  "
      ]
     },
     "execution_count": 53,
     "metadata": {},
     "output_type": "execute_result"
    }
   ],
   "source": [
    "import pandas as pd\n",
    "\n",
    "df = pd.read_csv('IT.csv')\n",
    "df.head()"
   ]
  },
  {
   "cell_type": "code",
   "execution_count": 54,
   "metadata": {},
   "outputs": [
    {
     "name": "stdout",
     "output_type": "stream",
     "text": [
      "<class 'pandas.core.frame.DataFrame'>\n",
      "RangeIndex: 480 entries, 0 to 479\n",
      "Data columns (total 6 columns):\n",
      " #   Column           Non-Null Count  Dtype \n",
      "---  ------           --------------  ----- \n",
      " 0   Poste date       480 non-null    object\n",
      " 1   Title            480 non-null    object\n",
      " 2   Location         480 non-null    object\n",
      " 3   Company          434 non-null    object\n",
      " 4   Job type         297 non-null    object\n",
      " 5   Job description  480 non-null    object\n",
      "dtypes: object(6)\n",
      "memory usage: 22.6+ KB\n"
     ]
    }
   ],
   "source": [
    "df.info()"
   ]
  },
  {
   "cell_type": "code",
   "execution_count": 55,
   "metadata": {},
   "outputs": [
    {
     "data": {
      "text/plain": [
       "Poste date           0\n",
       "Title                0\n",
       "Location             0\n",
       "Company             46\n",
       "Job type           183\n",
       "Job description      0\n",
       "dtype: int64"
      ]
     },
     "execution_count": 55,
     "metadata": {},
     "output_type": "execute_result"
    }
   ],
   "source": [
    "df.isnull().sum()"
   ]
  },
  {
   "cell_type": "markdown",
   "metadata": {},
   "source": [
    "### data cleaning"
   ]
  },
  {
   "cell_type": "code",
   "execution_count": 56,
   "metadata": {},
   "outputs": [
    {
     "data": {
      "text/html": [
       "<div>\n",
       "<style scoped>\n",
       "    .dataframe tbody tr th:only-of-type {\n",
       "        vertical-align: middle;\n",
       "    }\n",
       "\n",
       "    .dataframe tbody tr th {\n",
       "        vertical-align: top;\n",
       "    }\n",
       "\n",
       "    .dataframe thead th {\n",
       "        text-align: right;\n",
       "    }\n",
       "</style>\n",
       "<table border=\"1\" class=\"dataframe\">\n",
       "  <thead>\n",
       "    <tr style=\"text-align: right;\">\n",
       "      <th></th>\n",
       "      <th>Poste date</th>\n",
       "      <th>Title</th>\n",
       "      <th>Location</th>\n",
       "      <th>Company</th>\n",
       "      <th>Job type</th>\n",
       "      <th>Job description</th>\n",
       "    </tr>\n",
       "  </thead>\n",
       "  <tbody>\n",
       "    <tr>\n",
       "      <th>0</th>\n",
       "      <td>30+ days ago</td>\n",
       "      <td>Ingénieur informatique</td>\n",
       "      <td>Rabat</td>\n",
       "      <td>advance manager</td>\n",
       "      <td>Permanent</td>\n",
       "      <td>Nous sommes à la recherche d'un Ingénieur Info...</td>\n",
       "    </tr>\n",
       "    <tr>\n",
       "      <th>1</th>\n",
       "      <td>30+ days ago</td>\n",
       "      <td>Ingénieur Sécurité Informatique (H/F)</td>\n",
       "      <td>Rabat</td>\n",
       "      <td>ISC Maroc</td>\n",
       "      <td>Permanent</td>\n",
       "      <td>Notre mission depuis 30 ans ? Être présent au ...</td>\n",
       "    </tr>\n",
       "    <tr>\n",
       "      <th>2</th>\n",
       "      <td>17 days ago</td>\n",
       "      <td>Ingénieur agronome - chargé de mission auprès ...</td>\n",
       "      <td>Rabat</td>\n",
       "      <td>NaN</td>\n",
       "      <td>Permanent</td>\n",
       "      <td>Rabat\\nPubliée le: 9 Feb-13:56\\nAnnonce N°: 97...</td>\n",
       "    </tr>\n",
       "    <tr>\n",
       "      <th>3</th>\n",
       "      <td>17 days ago</td>\n",
       "      <td>IngÉnieur systÈme d’information</td>\n",
       "      <td>Rabat</td>\n",
       "      <td>NaN</td>\n",
       "      <td>Permanent</td>\n",
       "      <td>Rabat\\nPubliée le: 9 Feb-10:43\\nAnnonce N°: 97...</td>\n",
       "    </tr>\n",
       "    <tr>\n",
       "      <th>4</th>\n",
       "      <td>21 days ago</td>\n",
       "      <td>Chargé(e) de Mission - Project Management</td>\n",
       "      <td>Rabat</td>\n",
       "      <td>RH Multirecru</td>\n",
       "      <td>Permanent</td>\n",
       "      <td>Job Title: Chargé(e) de Mission - Project Mana...</td>\n",
       "    </tr>\n",
       "  </tbody>\n",
       "</table>\n",
       "</div>"
      ],
      "text/plain": [
       "     Poste date                                              Title Location  \\\n",
       "0  30+ days ago                             Ingénieur informatique    Rabat   \n",
       "1  30+ days ago              Ingénieur Sécurité Informatique (H/F)    Rabat   \n",
       "2   17 days ago  Ingénieur agronome - chargé de mission auprès ...    Rabat   \n",
       "3   17 days ago                    IngÉnieur systÈme d’information    Rabat   \n",
       "4   21 days ago          Chargé(e) de Mission - Project Management    Rabat   \n",
       "\n",
       "           Company   Job type  \\\n",
       "0  advance manager  Permanent   \n",
       "1        ISC Maroc  Permanent   \n",
       "2              NaN  Permanent   \n",
       "3              NaN  Permanent   \n",
       "4    RH Multirecru  Permanent   \n",
       "\n",
       "                                     Job description  \n",
       "0  Nous sommes à la recherche d'un Ingénieur Info...  \n",
       "1  Notre mission depuis 30 ans ? Être présent au ...  \n",
       "2  Rabat\\nPubliée le: 9 Feb-13:56\\nAnnonce N°: 97...  \n",
       "3  Rabat\\nPubliée le: 9 Feb-10:43\\nAnnonce N°: 97...  \n",
       "4  Job Title: Chargé(e) de Mission - Project Mana...  "
      ]
     },
     "execution_count": 56,
     "metadata": {},
     "output_type": "execute_result"
    }
   ],
   "source": [
    "#correcting the 'Post date' column\n",
    "df[\"Poste date\"] = df[\"Poste date\"].str.replace(\"PostedPosted \", \"\")\n",
    "df[\"Poste date\"] = df[\"Poste date\"].str.replace(\"EmployerActive \", \"\")\n",
    "df.head()"
   ]
  },
  {
   "cell_type": "code",
   "execution_count": 57,
   "metadata": {},
   "outputs": [
    {
     "data": {
      "text/plain": [
       "array(['CDI', nan, 'A discuter', 'freelance', '6 mois', 'Stage', 'stage',\n",
       "       '3 mois', 'Freelance', 'Anapec', 'CDD', 'FREELANCE'], dtype=object)"
      ]
     },
     "execution_count": 57,
     "metadata": {},
     "output_type": "execute_result"
    }
   ],
   "source": [
    "import re\n",
    "#adding the salary column\n",
    "df['salary'] = df['Job description'].apply(lambda x: re.search(r'salaire\\s*:\\s*([^\\n\\r]+)', str(x), flags=re.IGNORECASE).group(1) if re.search(r'salaire\\s*:\\s*([^\\n\\r]+)', str(x), flags=re.IGNORECASE) else None)\n",
    "#addting the contract type column\n",
    "df['contract'] = df['Job description'].str.extract(r'(CDI|Stage|A discuter|Freelance|Anapec|6 mois|3 mois|CDD)', flags=re.IGNORECASE)\n",
    "df['contract'].unique()"
   ]
  },
  {
   "cell_type": "code",
   "execution_count": 58,
   "metadata": {},
   "outputs": [
    {
     "data": {
      "text/plain": [
       "level of studies\n",
       "Bac+5            69\n",
       "Bac+4             7\n",
       "Bac+2             6\n",
       "Bac+3             4\n",
       "Pas important     1\n",
       "Name: count, dtype: int64"
      ]
     },
     "execution_count": 58,
     "metadata": {},
     "output_type": "execute_result"
    }
   ],
   "source": [
    "#Creating a new column called 'level of studies'\n",
    "df['level of studies'] = df['Job description'].apply(lambda x: re.search(r\"Niveau d'études\\s*:\\s*([^\\n\\r]+)\", str(x), flags=re.IGNORECASE).group(1) if re.search(r\"Niveau d'études\\s*:\\s*([^\\n\\r]+)\", str(x), flags=re.IGNORECASE) else None)\n",
    "#handling inconsistencies in the column values\n",
    "for i in range(2,6):\n",
    "    df['level of studies'][df['level of studies'] == \"Bac plus \" + str(i)] = \"Bac+\" + str(i)\n",
    "df['level of studies'][df['level of studies'] == \"Master, DESS, DEA, Bac+5\"] = \"Bac+5\"\n",
    "df['level of studies'][df['level of studies'] == \"Bac+5 et plus\"] = \"Bac+5\"\n",
    "df['level of studies'].value_counts()"
   ]
  },
  {
   "cell_type": "code",
   "execution_count": 59,
   "metadata": {},
   "outputs": [
    {
     "name": "stdout",
     "output_type": "stream",
     "text": [
      "<class 'pandas.core.frame.DataFrame'>\n",
      "RangeIndex: 480 entries, 0 to 479\n",
      "Data columns (total 9 columns):\n",
      " #   Column            Non-Null Count  Dtype \n",
      "---  ------            --------------  ----- \n",
      " 0   Poste date        480 non-null    object\n",
      " 1   Title             480 non-null    object\n",
      " 2   Location          480 non-null    object\n",
      " 3   Company           434 non-null    object\n",
      " 4   Job type          297 non-null    object\n",
      " 5   Job description   480 non-null    object\n",
      " 6   salary            94 non-null     object\n",
      " 7   contract          267 non-null    object\n",
      " 8   level of studies  87 non-null     object\n",
      "dtypes: object(9)\n",
      "memory usage: 33.9+ KB\n"
     ]
    }
   ],
   "source": [
    "df.isnull().sum()\n",
    "df.info()"
   ]
  },
  {
   "cell_type": "code",
   "execution_count": 60,
   "metadata": {},
   "outputs": [
    {
     "data": {
      "text/plain": [
       "0                           A discuter\n",
       "1                                 None\n",
       "2                           A discuter\n",
       "3                           A discuter\n",
       "4    6.000,00DH à 10.000,00DH par mois\n",
       "Name: salary, dtype: object"
      ]
     },
     "execution_count": 60,
     "metadata": {},
     "output_type": "execute_result"
    }
   ],
   "source": [
    "df['salary'].head()"
   ]
  },
  {
   "cell_type": "code",
   "execution_count": 61,
   "metadata": {},
   "outputs": [
    {
     "data": {
      "text/plain": [
       "Company\n",
       "Trusted Advisors               68\n",
       "ALTEN                          32\n",
       "Cegedim Group                  27\n",
       "Orange                         17\n",
       "Sofrecom Services Maroc        14\n",
       "                               ..\n",
       "sadet                           1\n",
       "SIGMA ADVICE                    1\n",
       "kancom                          1\n",
       "Multinationale informatique     1\n",
       "Sté info                        1\n",
       "Name: count, Length: 138, dtype: int64"
      ]
     },
     "execution_count": 61,
     "metadata": {},
     "output_type": "execute_result"
    }
   ],
   "source": [
    "df['Company'].value_counts()"
   ]
  },
  {
   "cell_type": "code",
   "execution_count": 62,
   "metadata": {},
   "outputs": [
    {
     "data": {
      "text/plain": [
       "<Axes: xlabel='Company'>"
      ]
     },
     "execution_count": 62,
     "metadata": {},
     "output_type": "execute_result"
    },
    {
     "data": {
      "image/png": "[encoded data removed]",
      "text/plain": [
       "<Figure size 2000x500 with 1 Axes>"
      ]
     },
     "metadata": {},
     "output_type": "display_data"
    }
   ],
   "source": [
    "##Task 1: Find companies with highest number of job listings\n",
    "counts = df.groupby(\"Company\").count()[\"Title\"].sort_values(ascending=False)[:20]\n",
    "counts.plot(kind=\"bar\", figsize=(20, 5))"
   ]
  },
  {
   "cell_type": "code",
   "execution_count": 63,
   "metadata": {},
   "outputs": [
    {
     "data": {
      "text/html": [
       "<div>\n",
       "<style scoped>\n",
       "    .dataframe tbody tr th:only-of-type {\n",
       "        vertical-align: middle;\n",
       "    }\n",
       "\n",
       "    .dataframe tbody tr th {\n",
       "        vertical-align: top;\n",
       "    }\n",
       "\n",
       "    .dataframe thead th {\n",
       "        text-align: right;\n",
       "    }\n",
       "</style>\n",
       "<table border=\"1\" class=\"dataframe\">\n",
       "  <thead>\n",
       "    <tr style=\"text-align: right;\">\n",
       "      <th></th>\n",
       "      <th>city</th>\n",
       "      <th>lat</th>\n",
       "      <th>lng</th>\n",
       "      <th>country</th>\n",
       "      <th>iso2</th>\n",
       "      <th>admin_name</th>\n",
       "      <th>capital</th>\n",
       "      <th>population</th>\n",
       "      <th>population_proper</th>\n",
       "    </tr>\n",
       "  </thead>\n",
       "  <tbody>\n",
       "    <tr>\n",
       "      <th>0</th>\n",
       "      <td>Casablanca</td>\n",
       "      <td>33.5333</td>\n",
       "      <td>-7.5833</td>\n",
       "      <td>Morocco</td>\n",
       "      <td>MA</td>\n",
       "      <td>Casablanca-Settat</td>\n",
       "      <td>admin</td>\n",
       "      <td>4370000</td>\n",
       "      <td>3499000</td>\n",
       "    </tr>\n",
       "    <tr>\n",
       "      <th>1</th>\n",
       "      <td>El Kelaa des Srarhna</td>\n",
       "      <td>32.0481</td>\n",
       "      <td>-7.4083</td>\n",
       "      <td>Morocco</td>\n",
       "      <td>MA</td>\n",
       "      <td>Marrakech-Safi</td>\n",
       "      <td>NaN</td>\n",
       "      <td>1450021</td>\n",
       "      <td>51404</td>\n",
       "    </tr>\n",
       "    <tr>\n",
       "      <th>2</th>\n",
       "      <td>Fès</td>\n",
       "      <td>34.0433</td>\n",
       "      <td>-5.0033</td>\n",
       "      <td>Morocco</td>\n",
       "      <td>MA</td>\n",
       "      <td>Fès-Meknès</td>\n",
       "      <td>admin</td>\n",
       "      <td>1112072</td>\n",
       "      <td>1112072</td>\n",
       "    </tr>\n",
       "    <tr>\n",
       "      <th>3</th>\n",
       "      <td>Tangier</td>\n",
       "      <td>35.7767</td>\n",
       "      <td>-5.8039</td>\n",
       "      <td>Morocco</td>\n",
       "      <td>MA</td>\n",
       "      <td>Tanger-Tétouan-Al Hoceïma</td>\n",
       "      <td>admin</td>\n",
       "      <td>947952</td>\n",
       "      <td>947952</td>\n",
       "    </tr>\n",
       "    <tr>\n",
       "      <th>4</th>\n",
       "      <td>Marrakech</td>\n",
       "      <td>31.6300</td>\n",
       "      <td>-8.0089</td>\n",
       "      <td>Morocco</td>\n",
       "      <td>MA</td>\n",
       "      <td>Marrakech-Safi</td>\n",
       "      <td>admin</td>\n",
       "      <td>928850</td>\n",
       "      <td>928850</td>\n",
       "    </tr>\n",
       "    <tr>\n",
       "      <th>...</th>\n",
       "      <td>...</td>\n",
       "      <td>...</td>\n",
       "      <td>...</td>\n",
       "      <td>...</td>\n",
       "      <td>...</td>\n",
       "      <td>...</td>\n",
       "      <td>...</td>\n",
       "      <td>...</td>\n",
       "      <td>...</td>\n",
       "    </tr>\n",
       "    <tr>\n",
       "      <th>98</th>\n",
       "      <td>Bouknadel</td>\n",
       "      <td>34.1333</td>\n",
       "      <td>-6.7333</td>\n",
       "      <td>Morocco</td>\n",
       "      <td>MA</td>\n",
       "      <td>Rabat-Salé-Kénitra</td>\n",
       "      <td>NaN</td>\n",
       "      <td>25255</td>\n",
       "      <td>25255</td>\n",
       "    </tr>\n",
       "    <tr>\n",
       "      <th>99</th>\n",
       "      <td>Oulad Tayeb</td>\n",
       "      <td>33.9598</td>\n",
       "      <td>-4.9954</td>\n",
       "      <td>Morocco</td>\n",
       "      <td>MA</td>\n",
       "      <td>Fès-Meknès</td>\n",
       "      <td>NaN</td>\n",
       "      <td>24594</td>\n",
       "      <td>24594</td>\n",
       "    </tr>\n",
       "    <tr>\n",
       "      <th>100</th>\n",
       "      <td>Oulad Barhil</td>\n",
       "      <td>30.6408</td>\n",
       "      <td>-8.4750</td>\n",
       "      <td>Morocco</td>\n",
       "      <td>MA</td>\n",
       "      <td>Souss-Massa</td>\n",
       "      <td>NaN</td>\n",
       "      <td>24288</td>\n",
       "      <td>24288</td>\n",
       "    </tr>\n",
       "    <tr>\n",
       "      <th>101</th>\n",
       "      <td>Bir Jdid</td>\n",
       "      <td>33.3737</td>\n",
       "      <td>-8.0002</td>\n",
       "      <td>Morocco</td>\n",
       "      <td>MA</td>\n",
       "      <td>Casablanca-Settat</td>\n",
       "      <td>NaN</td>\n",
       "      <td>24136</td>\n",
       "      <td>24136</td>\n",
       "    </tr>\n",
       "    <tr>\n",
       "      <th>102</th>\n",
       "      <td>Tifariti</td>\n",
       "      <td>26.1580</td>\n",
       "      <td>-10.5670</td>\n",
       "      <td>Morocco</td>\n",
       "      <td>MA</td>\n",
       "      <td>Laâyoune-Sakia El Hamra</td>\n",
       "      <td>primary</td>\n",
       "      <td>3000</td>\n",
       "      <td>3000</td>\n",
       "    </tr>\n",
       "  </tbody>\n",
       "</table>\n",
       "<p>103 rows × 9 columns</p>\n",
       "</div>"
      ],
      "text/plain": [
       "                     city      lat      lng  country iso2  \\\n",
       "0              Casablanca  33.5333  -7.5833  Morocco   MA   \n",
       "1    El Kelaa des Srarhna  32.0481  -7.4083  Morocco   MA   \n",
       "2                     Fès  34.0433  -5.0033  Morocco   MA   \n",
       "3                 Tangier  35.7767  -5.8039  Morocco   MA   \n",
       "4               Marrakech  31.6300  -8.0089  Morocco   MA   \n",
       "..                    ...      ...      ...      ...  ...   \n",
       "98              Bouknadel  34.1333  -6.7333  Morocco   MA   \n",
       "99            Oulad Tayeb  33.9598  -4.9954  Morocco   MA   \n",
       "100          Oulad Barhil  30.6408  -8.4750  Morocco   MA   \n",
       "101              Bir Jdid  33.3737  -8.0002  Morocco   MA   \n",
       "102              Tifariti  26.1580 -10.5670  Morocco   MA   \n",
       "\n",
       "                    admin_name  capital  population  population_proper  \n",
       "0            Casablanca-Settat    admin     4370000            3499000  \n",
       "1               Marrakech-Safi      NaN     1450021              51404  \n",
       "2                   Fès-Meknès    admin     1112072            1112072  \n",
       "3    Tanger-Tétouan-Al Hoceïma    admin      947952             947952  \n",
       "4               Marrakech-Safi    admin      928850             928850  \n",
       "..                         ...      ...         ...                ...  \n",
       "98          Rabat-Salé-Kénitra      NaN       25255              25255  \n",
       "99                  Fès-Meknès      NaN       24594              24594  \n",
       "100                Souss-Massa      NaN       24288              24288  \n",
       "101          Casablanca-Settat      NaN       24136              24136  \n",
       "102    Laâyoune-Sakia El Hamra  primary        3000               3000  \n",
       "\n",
       "[103 rows x 9 columns]"
      ]
     },
     "execution_count": 63,
     "metadata": {},
     "output_type": "execute_result"
    }
   ],
   "source": [
    "ma_df = pd.read_csv('ma.csv')\n",
    "ma_df"
   ]
  },
  {
   "cell_type": "code",
   "execution_count": 64,
   "metadata": {},
   "outputs": [],
   "source": [
    "#Correcting the names of columns in the jobs dataset to fit the names in 'ma.csv' dataset \n",
    "df.Location[df.Location == \"Tanger\"] = \"Tangier\"\n",
    "df = df[df['Location'] != 'Maroc']\n",
    "df.Location[df.Location == \"Témara\"] = \"Temara\"\n",
    "df.Location[df.Location == \"Préfecture de Mohammédia\"] = \"Mohammedia\"\n",
    "df.Location[df.Location == \"El Jadida\"] = \"El Jadid\"\n",
    "df.Location[df.Location == \"Province d'El Jadida\"] = \"El Jadid\"\n",
    "df.Location[df.Location == \"Oujda\"] = \"Oujda-Angad\"\n",
    "df.Location[df.Location == \"Province de Béni-Mellal\"] = \"Béni Mellal\"\n",
    "df.Location[df.Location == \"Kénitra\"] = \"Kenitra\"\n",
    "df.Location[df.Location == \"Région de Casablanca-Settat\"] = \"Casablanca\"\n",
    "df.Location[df.Location == \"Province de Nouaceur\"] = \"Casablanca\"\n",
    "df.Location[df.Location == \"Salé\"] = \"Sale\"\n",
    "df.Location[df.Location == \"Préfecture de Skhirate-Témara\"] = \"Temara\""
   ]
  },
  {
   "cell_type": "code",
   "execution_count": 65,
   "metadata": {},
   "outputs": [
    {
     "data": {
      "text/plain": [
       "Location\n",
       "Casablanca     217\n",
       "Rabat          154\n",
       "Tangier         16\n",
       "Skhirate        11\n",
       "Mohammedia       8\n",
       "El Jadid         6\n",
       "Nador            5\n",
       "Agadir           5\n",
       "Fès              4\n",
       "Marrakech        4\n",
       "Kenitra          3\n",
       "Temara           3\n",
       "Oujda-Angad      2\n",
       "Ben Guerir       1\n",
       "Meknès           1\n",
       "Béni Mellal      1\n",
       "Inezgane         1\n",
       "Sale             1\n",
       "Bouskoura        1\n",
       "Name: count, dtype: int64"
      ]
     },
     "execution_count": 65,
     "metadata": {},
     "output_type": "execute_result"
    }
   ],
   "source": [
    "##Task 2: Find Locations with highest number of job listings\n",
    "df['Location'].value_counts()"
   ]
  },
  {
   "cell_type": "code",
   "execution_count": 66,
   "metadata": {},
   "outputs": [
    {
     "data": {
      "text/html": [
       "<div>\n",
       "<style scoped>\n",
       "    .dataframe tbody tr th:only-of-type {\n",
       "        vertical-align: middle;\n",
       "    }\n",
       "\n",
       "    .dataframe tbody tr th {\n",
       "        vertical-align: top;\n",
       "    }\n",
       "\n",
       "    .dataframe thead th {\n",
       "        text-align: right;\n",
       "    }\n",
       "</style>\n",
       "<table border=\"1\" class=\"dataframe\">\n",
       "  <thead>\n",
       "    <tr style=\"text-align: right;\">\n",
       "      <th></th>\n",
       "      <th>Location</th>\n",
       "      <th>number of jobs</th>\n",
       "      <th>latitude</th>\n",
       "      <th>longitude</th>\n",
       "    </tr>\n",
       "  </thead>\n",
       "  <tbody>\n",
       "    <tr>\n",
       "      <th>0</th>\n",
       "      <td>Casablanca</td>\n",
       "      <td>217</td>\n",
       "      <td>33.5333</td>\n",
       "      <td>-7.5833</td>\n",
       "    </tr>\n",
       "    <tr>\n",
       "      <th>1</th>\n",
       "      <td>Rabat</td>\n",
       "      <td>154</td>\n",
       "      <td>34.0209</td>\n",
       "      <td>-6.8416</td>\n",
       "    </tr>\n",
       "    <tr>\n",
       "      <th>2</th>\n",
       "      <td>Tangier</td>\n",
       "      <td>16</td>\n",
       "      <td>35.7767</td>\n",
       "      <td>-5.8039</td>\n",
       "    </tr>\n",
       "    <tr>\n",
       "      <th>3</th>\n",
       "      <td>Skhirate</td>\n",
       "      <td>11</td>\n",
       "      <td>33.8500</td>\n",
       "      <td>-7.0300</td>\n",
       "    </tr>\n",
       "    <tr>\n",
       "      <th>4</th>\n",
       "      <td>Mohammedia</td>\n",
       "      <td>8</td>\n",
       "      <td>33.6833</td>\n",
       "      <td>-7.3833</td>\n",
       "    </tr>\n",
       "    <tr>\n",
       "      <th>5</th>\n",
       "      <td>El Jadid</td>\n",
       "      <td>6</td>\n",
       "      <td>33.2333</td>\n",
       "      <td>-8.5000</td>\n",
       "    </tr>\n",
       "    <tr>\n",
       "      <th>6</th>\n",
       "      <td>Nador</td>\n",
       "      <td>5</td>\n",
       "      <td>35.1667</td>\n",
       "      <td>-2.9333</td>\n",
       "    </tr>\n",
       "    <tr>\n",
       "      <th>7</th>\n",
       "      <td>Agadir</td>\n",
       "      <td>5</td>\n",
       "      <td>30.4333</td>\n",
       "      <td>-9.6000</td>\n",
       "    </tr>\n",
       "    <tr>\n",
       "      <th>8</th>\n",
       "      <td>Fès</td>\n",
       "      <td>4</td>\n",
       "      <td>34.0433</td>\n",
       "      <td>-5.0033</td>\n",
       "    </tr>\n",
       "    <tr>\n",
       "      <th>9</th>\n",
       "      <td>Marrakech</td>\n",
       "      <td>4</td>\n",
       "      <td>31.6300</td>\n",
       "      <td>-8.0089</td>\n",
       "    </tr>\n",
       "    <tr>\n",
       "      <th>10</th>\n",
       "      <td>Kenitra</td>\n",
       "      <td>3</td>\n",
       "      <td>34.2500</td>\n",
       "      <td>-6.5833</td>\n",
       "    </tr>\n",
       "    <tr>\n",
       "      <th>11</th>\n",
       "      <td>Temara</td>\n",
       "      <td>3</td>\n",
       "      <td>33.9267</td>\n",
       "      <td>-6.9122</td>\n",
       "    </tr>\n",
       "    <tr>\n",
       "      <th>12</th>\n",
       "      <td>Oujda-Angad</td>\n",
       "      <td>2</td>\n",
       "      <td>34.6867</td>\n",
       "      <td>-1.9114</td>\n",
       "    </tr>\n",
       "    <tr>\n",
       "      <th>13</th>\n",
       "      <td>Ben Guerir</td>\n",
       "      <td>1</td>\n",
       "      <td>32.2300</td>\n",
       "      <td>-7.9500</td>\n",
       "    </tr>\n",
       "    <tr>\n",
       "      <th>14</th>\n",
       "      <td>Meknès</td>\n",
       "      <td>1</td>\n",
       "      <td>33.8950</td>\n",
       "      <td>-5.5547</td>\n",
       "    </tr>\n",
       "    <tr>\n",
       "      <th>15</th>\n",
       "      <td>Béni Mellal</td>\n",
       "      <td>1</td>\n",
       "      <td>32.3394</td>\n",
       "      <td>-6.3608</td>\n",
       "    </tr>\n",
       "    <tr>\n",
       "      <th>16</th>\n",
       "      <td>Inezgane</td>\n",
       "      <td>1</td>\n",
       "      <td>30.3658</td>\n",
       "      <td>-9.5381</td>\n",
       "    </tr>\n",
       "    <tr>\n",
       "      <th>17</th>\n",
       "      <td>Sale</td>\n",
       "      <td>1</td>\n",
       "      <td>34.0333</td>\n",
       "      <td>-6.8000</td>\n",
       "    </tr>\n",
       "    <tr>\n",
       "      <th>18</th>\n",
       "      <td>Bouskoura</td>\n",
       "      <td>1</td>\n",
       "      <td>33.4489</td>\n",
       "      <td>-7.6486</td>\n",
       "    </tr>\n",
       "  </tbody>\n",
       "</table>\n",
       "</div>"
      ],
      "text/plain": [
       "       Location  number of jobs  latitude  longitude\n",
       "0    Casablanca             217   33.5333    -7.5833\n",
       "1         Rabat             154   34.0209    -6.8416\n",
       "2       Tangier              16   35.7767    -5.8039\n",
       "3      Skhirate              11   33.8500    -7.0300\n",
       "4    Mohammedia               8   33.6833    -7.3833\n",
       "5      El Jadid               6   33.2333    -8.5000\n",
       "6         Nador               5   35.1667    -2.9333\n",
       "7        Agadir               5   30.4333    -9.6000\n",
       "8           Fès               4   34.0433    -5.0033\n",
       "9     Marrakech               4   31.6300    -8.0089\n",
       "10      Kenitra               3   34.2500    -6.5833\n",
       "11       Temara               3   33.9267    -6.9122\n",
       "12  Oujda-Angad               2   34.6867    -1.9114\n",
       "13   Ben Guerir               1   32.2300    -7.9500\n",
       "14       Meknès               1   33.8950    -5.5547\n",
       "15  Béni Mellal               1   32.3394    -6.3608\n",
       "16     Inezgane               1   30.3658    -9.5381\n",
       "17         Sale               1   34.0333    -6.8000\n",
       "18    Bouskoura               1   33.4489    -7.6486"
      ]
     },
     "execution_count": 66,
     "metadata": {},
     "output_type": "execute_result"
    }
   ],
   "source": [
    "#Creating a new dataset 'city_counts' with ['Location','number of jobs', 'latitude', 'longitude'] columns\n",
    "city_counts = df['Location'].value_counts().reset_index()\n",
    "city_counts.columns = ['Location', 'number of jobs']\n",
    "for city in city_counts['Location']:\n",
    "    if city in ma_df['city'].values:\n",
    "        # Find the index of the matching city in ma_df\n",
    "        index = ma_df.index[ma_df['city'] == city][0]\n",
    "        # Assign latitude and longitude values from ma_df to df\n",
    "        city_counts.loc[city_counts['Location'] == city, 'latitude'] = ma_df.loc[index, 'lat']\n",
    "        city_counts.loc[city_counts['Location'] == city, 'longitude'] = ma_df.loc[index, 'lng']\n",
    "city_counts"
   ]
  },
  {
   "cell_type": "code",
   "execution_count": 67,
   "metadata": {},
   "outputs": [
    {
     "data": {
      "application/vnd.plotly.v1+json": {
       "config": {
        "plotlyServerURL": "https://plot.ly"
       },
       "data": [
        {
         "hovertemplate": "<b>%{hovertext}</b><br><br>number of jobs=%{marker.size}<br>latitude=%{lat}<br>longitude=%{lon}<extra></extra>",
         "hovertext": [
          "Casablanca",
          "Rabat",
          "Tangier",
          "Skhirate",
          "Mohammedia",
          "El Jadid",
          "Nador",
          "Agadir",
          "Fès",
          "Marrakech",
          "Kenitra",
          "Temara",
          "Oujda-Angad",
          "Ben Guerir",
          "Meknès",
          "Béni Mellal",
          "Inezgane",
          "Sale",
          "Bouskoura"
         ],
         "lat": [
          33.5333,
          34.0209,
          35.7767,
          33.85,
          33.6833,
          33.2333,
          35.1667,
          30.4333,
          34.0433,
          31.63,
          34.25,
          33.9267,
          34.6867,
          32.23,
          33.895,
          32.3394,
          30.3658,
          34.0333,
          33.4489
         ],
         "legendgroup": "",
         "lon": [
          -7.5833,
          -6.8416,
          -5.8039,
          -7.03,
          -7.3833,
          -8.5,
          -2.9333,
          -9.6,
          -5.0033,
          -8.0089,
          -6.5833,
          -6.9122,
          -1.9114,
          -7.95,
          -5.5547,
          -6.3608,
          -9.5381,
          -6.8,
          -7.6486
         ],
         "marker": {
          "color": "#636efa",
          "size": [
           217,
           154,
           16,
           11,
           8,
           6,
           5,
           5,
           4,
           4,
           3,
           3,
           2,
           1,
           1,
           1,
           1,
           1,
           1
          ],
          "sizemode": "area",
          "sizeref": 0.5425
         },
         "mode": "markers",
         "name": "",
         "showlegend": false,
         "subplot": "mapbox",
         "type": "scattermapbox"
        }
       ],
       "layout": {
        "height": 900,
        "legend": {
         "itemsizing": "constant",
         "tracegroupgap": 0
        },
        "mapbox": {
         "center": {
          "lat": 33.397189473684215,
          "lon": -6.734036842105263
         },
         "domain": {
          "x": [
           0,
           1
          ],
          "y": [
           0,
           1
          ]
         },
         "style": "open-street-map",
         "zoom": 5
        },
        "template": {
         "data": {
          "bar": [
           {
            "error_x": {
             "color": "#2a3f5f"
            },
            "error_y": {
             "color": "#2a3f5f"
            },
            "marker": {
             "line": {
              "color": "#E5ECF6",
              "width": 0.5
             },
             "pattern": {
              "fillmode": "overlay",
              "size": 10,
              "solidity": 0.2
             }
            },
            "type": "bar"
           }
          ],
          "barpolar": [
           {
            "marker": {
             "line": {
              "color": "#E5ECF6",
              "width": 0.5
             },
             "pattern": {
              "fillmode": "overlay",
              "size": 10,
              "solidity": 0.2
             }
            },
            "type": "barpolar"
           }
          ],
          "carpet": [
           {
            "aaxis": {
             "endlinecolor": "#2a3f5f",
             "gridcolor": "white",
             "linecolor": "white",
             "minorgridcolor": "white",
             "startlinecolor": "#2a3f5f"
            },
            "baxis": {
             "endlinecolor": "#2a3f5f",
             "gridcolor": "white",
             "linecolor": "white",
             "minorgridcolor": "white",
             "startlinecolor": "#2a3f5f"
            },
            "type": "carpet"
           }
          ],
          "choropleth": [
           {
            "colorbar": {
             "outlinewidth": 0,
             "ticks": ""
            },
            "type": "choropleth"
           }
          ],
          "contour": [
           {
            "colorbar": {
             "outlinewidth": 0,
             "ticks": ""
            },
            "colorscale": [
             [
              0,
              "#0d0887"
             ],
             [
              0.1111111111111111,
              "#46039f"
             ],
             [
              0.2222222222222222,
              "#7201a8"
             ],
             [
              0.3333333333333333,
              "#9c179e"
             ],
             [
              0.4444444444444444,
              "#bd3786"
             ],
             [
              0.5555555555555556,
              "#d8576b"
             ],
             [
              0.6666666666666666,
              "#ed7953"
             ],
             [
              0.7777777777777778,
              "#fb9f3a"
             ],
             [
              0.8888888888888888,
              "#fdca26"
             ],
             [
              1,
              "#f0f921"
             ]
            ],
            "type": "contour"
           }
          ],
          "contourcarpet": [
           {
            "colorbar": {
             "outlinewidth": 0,
             "ticks": ""
            },
            "type": "contourcarpet"
           }
          ],
          "heatmap": [
           {
            "colorbar": {
             "outlinewidth": 0,
             "ticks": ""
            },
            "colorscale": [
             [
              0,
              "#0d0887"
             ],
             [
              0.1111111111111111,
              "#46039f"
             ],
             [
              0.2222222222222222,
              "#7201a8"
             ],
             [
              0.3333333333333333,
              "#9c179e"
             ],
             [
              0.4444444444444444,
              "#bd3786"
             ],
             [
              0.5555555555555556,
              "#d8576b"
             ],
             [
              0.6666666666666666,
              "#ed7953"
             ],
             [
              0.7777777777777778,
              "#fb9f3a"
             ],
             [
              0.8888888888888888,
              "#fdca26"
             ],
             [
              1,
              "#f0f921"
             ]
            ],
            "type": "heatmap"
           }
          ],
          "heatmapgl": [
           {
            "colorbar": {
             "outlinewidth": 0,
             "ticks": ""
            },
            "colorscale": [
             [
              0,
              "#0d0887"
             ],
             [
              0.1111111111111111,
              "#46039f"
             ],
             [
              0.2222222222222222,
              "#7201a8"
             ],
             [
              0.3333333333333333,
              "#9c179e"
             ],
             [
              0.4444444444444444,
              "#bd3786"
             ],
             [
              0.5555555555555556,
              "#d8576b"
             ],
             [
              0.6666666666666666,
              "#ed7953"
             ],
             [
              0.7777777777777778,
              "#fb9f3a"
             ],
             [
              0.8888888888888888,
              "#fdca26"
             ],
             [
              1,
              "#f0f921"
             ]
            ],
            "type": "heatmapgl"
           }
          ],
          "histogram": [
           {
            "marker": {
             "pattern": {
              "fillmode": "overlay",
              "size": 10,
              "solidity": 0.2
             }
            },
            "type": "histogram"
           }
          ],
          "histogram2d": [
           {
            "colorbar": {
             "outlinewidth": 0,
             "ticks": ""
            },
            "colorscale": [
             [
              0,
              "#0d0887"
             ],
             [
              0.1111111111111111,
              "#46039f"
             ],
             [
              0.2222222222222222,
              "#7201a8"
             ],
             [
              0.3333333333333333,
              "#9c179e"
             ],
             [
              0.4444444444444444,
              "#bd3786"
             ],
             [
              0.5555555555555556,
              "#d8576b"
             ],
             [
              0.6666666666666666,
              "#ed7953"
             ],
             [
              0.7777777777777778,
              "#fb9f3a"
             ],
             [
              0.8888888888888888,
              "#fdca26"
             ],
             [
              1,
              "#f0f921"
             ]
            ],
            "type": "histogram2d"
           }
          ],
          "histogram2dcontour": [
           {
            "colorbar": {
             "outlinewidth": 0,
             "ticks": ""
            },
            "colorscale": [
             [
              0,
              "#0d0887"
             ],
             [
              0.1111111111111111,
              "#46039f"
             ],
             [
              0.2222222222222222,
              "#7201a8"
             ],
             [
              0.3333333333333333,
              "#9c179e"
             ],
             [
              0.4444444444444444,
              "#bd3786"
             ],
             [
              0.5555555555555556,
              "#d8576b"
             ],
             [
              0.6666666666666666,
              "#ed7953"
             ],
             [
              0.7777777777777778,
              "#fb9f3a"
             ],
             [
              0.8888888888888888,
              "#fdca26"
             ],
             [
              1,
              "#f0f921"
             ]
            ],
            "type": "histogram2dcontour"
           }
          ],
          "mesh3d": [
           {
            "colorbar": {
             "outlinewidth": 0,
             "ticks": ""
            },
            "type": "mesh3d"
           }
          ],
          "parcoords": [
           {
            "line": {
             "colorbar": {
              "outlinewidth": 0,
              "ticks": ""
             }
            },
            "type": "parcoords"
           }
          ],
          "pie": [
           {
            "automargin": true,
            "type": "pie"
           }
          ],
          "scatter": [
           {
            "fillpattern": {
             "fillmode": "overlay",
             "size": 10,
             "solidity": 0.2
            },
            "type": "scatter"
           }
          ],
          "scatter3d": [
           {
            "line": {
             "colorbar": {
              "outlinewidth": 0,
              "ticks": ""
             }
            },
            "marker": {
             "colorbar": {
              "outlinewidth": 0,
              "ticks": ""
             }
            },
            "type": "scatter3d"
           }
          ],
          "scattercarpet": [
           {
            "marker": {
             "colorbar": {
              "outlinewidth": 0,
              "ticks": ""
             }
            },
            "type": "scattercarpet"
           }
          ],
          "scattergeo": [
           {
            "marker": {
             "colorbar": {
              "outlinewidth": 0,
              "ticks": ""
             }
            },
            "type": "scattergeo"
           }
          ],
          "scattergl": [
           {
            "marker": {
             "colorbar": {
              "outlinewidth": 0,
              "ticks": ""
             }
            },
            "type": "scattergl"
           }
          ],
          "scattermapbox": [
           {
            "marker": {
             "colorbar": {
              "outlinewidth": 0,
              "ticks": ""
             }
            },
            "type": "scattermapbox"
           }
          ],
          "scatterpolar": [
           {
            "marker": {
             "colorbar": {
              "outlinewidth": 0,
              "ticks": ""
             }
            },
            "type": "scatterpolar"
           }
          ],
          "scatterpolargl": [
           {
            "marker": {
             "colorbar": {
              "outlinewidth": 0,
              "ticks": ""
             }
            },
            "type": "scatterpolargl"
           }
          ],
          "scatterternary": [
           {
            "marker": {
             "colorbar": {
              "outlinewidth": 0,
              "ticks": ""
             }
            },
            "type": "scatterternary"
           }
          ],
          "surface": [
           {
            "colorbar": {
             "outlinewidth": 0,
             "ticks": ""
            },
            "colorscale": [
             [
              0,
              "#0d0887"
             ],
             [
              0.1111111111111111,
              "#46039f"
             ],
             [
              0.2222222222222222,
              "#7201a8"
             ],
             [
              0.3333333333333333,
              "#9c179e"
             ],
             [
              0.4444444444444444,
              "#bd3786"
             ],
             [
              0.5555555555555556,
              "#d8576b"
             ],
             [
              0.6666666666666666,
              "#ed7953"
             ],
             [
              0.7777777777777778,
              "#fb9f3a"
             ],
             [
              0.8888888888888888,
              "#fdca26"
             ],
             [
              1,
              "#f0f921"
             ]
            ],
            "type": "surface"
           }
          ],
          "table": [
           {
            "cells": {
             "fill": {
              "color": "#EBF0F8"
             },
             "line": {
              "color": "white"
             }
            },
            "header": {
             "fill": {
              "color": "#C8D4E3"
             },
             "line": {
              "color": "white"
             }
            },
            "type": "table"
           }
          ]
         },
         "layout": {
          "annotationdefaults": {
           "arrowcolor": "#2a3f5f",
           "arrowhead": 0,
           "arrowwidth": 1
          },
          "autotypenumbers": "strict",
          "coloraxis": {
           "colorbar": {
            "outlinewidth": 0,
            "ticks": ""
           }
          },
          "colorscale": {
           "diverging": [
            [
             0,
             "#8e0152"
            ],
            [
             0.1,
             "#c51b7d"
            ],
            [
             0.2,
             "#de77ae"
            ],
            [
             0.3,
             "#f1b6da"
            ],
            [
             0.4,
             "#fde0ef"
            ],
            [
             0.5,
             "#f7f7f7"
            ],
            [
             0.6,
             "#e6f5d0"
            ],
            [
             0.7,
             "#b8e186"
            ],
            [
             0.8,
             "#7fbc41"
            ],
            [
             0.9,
             "#4d9221"
            ],
            [
             1,
             "#276419"
            ]
           ],
           "sequential": [
            [
             0,
             "#0d0887"
            ],
            [
             0.1111111111111111,
             "#46039f"
            ],
            [
             0.2222222222222222,
             "#7201a8"
            ],
            [
             0.3333333333333333,
             "#9c179e"
            ],
            [
             0.4444444444444444,
             "#bd3786"
            ],
            [
             0.5555555555555556,
             "#d8576b"
            ],
            [
             0.6666666666666666,
             "#ed7953"
            ],
            [
             0.7777777777777778,
             "#fb9f3a"
            ],
            [
             0.8888888888888888,
             "#fdca26"
            ],
            [
             1,
             "#f0f921"
            ]
           ],
           "sequentialminus": [
            [
             0,
             "#0d0887"
            ],
            [
             0.1111111111111111,
             "#46039f"
            ],
            [
             0.2222222222222222,
             "#7201a8"
            ],
            [
             0.3333333333333333,
             "#9c179e"
            ],
            [
             0.4444444444444444,
             "#bd3786"
            ],
            [
             0.5555555555555556,
             "#d8576b"
            ],
            [
             0.6666666666666666,
             "#ed7953"
            ],
            [
             0.7777777777777778,
             "#fb9f3a"
            ],
            [
             0.8888888888888888,
             "#fdca26"
            ],
            [
             1,
             "#f0f921"
            ]
           ]
          },
          "colorway": [
           "#636efa",
           "#EF553B",
           "#00cc96",
           "#ab63fa",
           "#FFA15A",
           "#19d3f3",
           "#FF6692",
           "#B6E880",
           "#FF97FF",
           "#FECB52"
          ],
          "font": {
           "color": "#2a3f5f"
          },
          "geo": {
           "bgcolor": "white",
           "lakecolor": "white",
           "landcolor": "#E5ECF6",
           "showlakes": true,
           "showland": true,
           "subunitcolor": "white"
          },
          "hoverlabel": {
           "align": "left"
          },
          "hovermode": "closest",
          "mapbox": {
           "style": "light"
          },
          "paper_bgcolor": "white",
          "plot_bgcolor": "#E5ECF6",
          "polar": {
           "angularaxis": {
            "gridcolor": "white",
            "linecolor": "white",
            "ticks": ""
           },
           "bgcolor": "#E5ECF6",
           "radialaxis": {
            "gridcolor": "white",
            "linecolor": "white",
            "ticks": ""
           }
          },
          "scene": {
           "xaxis": {
            "backgroundcolor": "#E5ECF6",
            "gridcolor": "white",
            "gridwidth": 2,
            "linecolor": "white",
            "showbackground": true,
            "ticks": "",
            "zerolinecolor": "white"
           },
           "yaxis": {
            "backgroundcolor": "#E5ECF6",
            "gridcolor": "white",
            "gridwidth": 2,
            "linecolor": "white",
            "showbackground": true,
            "ticks": "",
            "zerolinecolor": "white"
           },
           "zaxis": {
            "backgroundcolor": "#E5ECF6",
            "gridcolor": "white",
            "gridwidth": 2,
            "linecolor": "white",
            "showbackground": true,
            "ticks": "",
            "zerolinecolor": "white"
           }
          },
          "shapedefaults": {
           "line": {
            "color": "#2a3f5f"
           }
          },
          "ternary": {
           "aaxis": {
            "gridcolor": "white",
            "linecolor": "white",
            "ticks": ""
           },
           "baxis": {
            "gridcolor": "white",
            "linecolor": "white",
            "ticks": ""
           },
           "bgcolor": "#E5ECF6",
           "caxis": {
            "gridcolor": "white",
            "linecolor": "white",
            "ticks": ""
           }
          },
          "title": {
           "x": 0.05
          },
          "xaxis": {
           "automargin": true,
           "gridcolor": "white",
           "linecolor": "white",
           "ticks": "",
           "title": {
            "standoff": 15
           },
           "zerolinecolor": "white",
           "zerolinewidth": 2
          },
          "yaxis": {
           "automargin": true,
           "gridcolor": "white",
           "linecolor": "white",
           "ticks": "",
           "title": {
            "standoff": 15
           },
           "zerolinecolor": "white",
           "zerolinewidth": 2
          }
         }
        },
        "title": {
         "text": "Job offers in Morocco"
        },
        "width": 1200
       }
      }
     },
     "metadata": {},
     "output_type": "display_data"
    }
   ],
   "source": [
    "import plotly.express as px\n",
    "fig = px.scatter_mapbox(city_counts, lon = 'longitude',\n",
    "                        lat = 'latitude',\n",
    "                        mapbox_style = \"open-street-map\",\n",
    "                        hover_name = 'Location',\n",
    "                        zoom = 5,\n",
    "                        size = 'number of jobs',\n",
    "                        width = 1200,\n",
    "                        height = 900,\n",
    "                        title = \"Job offers in Morocco\")\n",
    "fig.show()"
   ]
  },
  {
   "cell_type": "code",
   "execution_count": 69,
   "metadata": {},
   "outputs": [
    {
     "data": {
      "text/plain": [
       "array(['30+ days ago', '17 days ago', '21 days ago', '16 days ago',\n",
       "       '24 days ago', '12 days ago', '3 days ago', '4 days ago',\n",
       "       '9 days ago', '6 days ago', 'PostedToday', '14 days ago',\n",
       "       '5 days ago', '20 days ago', '7 days ago', '8 days ago',\n",
       "       '27 days ago', '13 days ago', 'PostedJust posted', '2 days ago',\n",
       "       '19 days ago', '11 days ago', '28 days ago', '25 days ago'],\n",
       "      dtype=object)"
      ]
     },
     "execution_count": 69,
     "metadata": {},
     "output_type": "execute_result"
    }
   ],
   "source": [
    "df['Poste date'].unique()"
   ]
  }
 ],
 "metadata": {
  "kernelspec": {
   "display_name": "Python 3",
   "language": "python",
   "name": "python3"
  },
  "language_info": {
   "codemirror_mode": {
    "name": "ipython",
    "version": 3
   },
   "file_extension": ".py",
   "mimetype": "text/x-python",
   "name": "python",
   "nbconvert_exporter": "python",
   "pygments_lexer": "ipython3",
   "version": "3.10.12"
  }
 },
 "nbformat": 4,
 "nbformat_minor": 2
}
